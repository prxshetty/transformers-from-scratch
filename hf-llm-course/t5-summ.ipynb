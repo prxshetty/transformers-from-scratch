{
 "cells": [
  {
   "cell_type": "code",
   "execution_count": 1,
   "id": "80ea7858",
   "metadata": {},
   "outputs": [],
   "source": [
    "from datasets import load_dataset\n",
    "billsum = load_dataset(\"billsum\", split = \"ca_test\")\n"
   ]
  },
  {
   "cell_type": "code",
   "execution_count": 2,
   "id": "b6cc814d",
   "metadata": {},
   "outputs": [],
   "source": [
    "billsum = billsum.train_test_split(test_size = 0.2)"
   ]
  },
  {
   "cell_type": "code",
   "execution_count": 3,
   "id": "195539a2",
   "metadata": {},
   "outputs": [
    {
     "data": {
      "text/plain": [
       "{'text': 'The people of the State of California do enact as follows:\\n\\n\\nSECTION 1.\\nThe Legislature finds and declares all of the following:\\n(a) California has the eighth largest economy in the world, and its laws have a far-reaching impact on individuals, entities, and organizations within the state and throughout the world.\\n(b) Because of its extraordinary economic impact and leadership on timely issues, California’s statutory framework and legal structures have a national and global impact.\\n(c) Rapid technological and societal advances require the development of public policy in new and evolving areas.\\n(d) State government officials must make informed policy decisions about issues that have increasingly complex and interrelated legal components.\\n(e) California is home to some of the world’s most prestigious universities and law schools.\\n(f) California is currently facing one of the largest surpluses of recent law school graduates in the nation, and the unique education and training of these skilled graduates could greatly assist the state government in its work.\\n(g) Only approximately 5 percent of attorneys nationwide work for state governments, meaning that the nation’s state governments derive insufficient benefit from those attorneys’ legal training and expertise.\\n(h) Approximately 36 percent of attorneys working for the State of California are 55 years of age or older; therefore, California must encourage attorneys to enter public service to fill vacancies as those attorneys retire.\\n(i) The establishment of a law fellowship program in California will enable the state to capitalize on the experience of its law school graduates for the betterment of its government.\\nSEC. 2.\\nChapter 1.5 (commencing with Section 8050) is added to Division 1 of Title 2 of the Government Code, to read:\\nCHAPTER  1.5. California Law Fellowship Program\\n8050.\\n(a) The California Law Fellowship Program is hereby established.\\n(b) The purpose of the program is to offer licensed attorneys and other qualifying law school graduates limited-term placements in public sector positions within state government.\\n(c) The program shall provide each California Law Fellow with the opportunity to work in the public sector and shall encourage each participant to seek permanent public-sector employment at the conclusion of the fellowship.\\n(d) The Legislature requests that The University of the Pacific McGeorge School of Law, in consultation with California law schools accredited by the American Bar Association, and with any other appropriate person or entity, do all of the following with respect to the California Law Fellowship Program:\\n(1) Create the program to provide law graduates a post-graduate educational experience and provide the Legislature and other governmental entities with legal assistance and advice.\\n(2) House and administer the program, including managing funding and processing applications.\\n(3) Give preference to applicants who are either of the following:\\n(A) Current members of the United States military.\\n(B) Former members of the United States military who were honorably discharged.\\n(e) A California Law Fellow’s placement with a state agency shall be contingent on that agency’s acceptance of the fellow, according to criteria adopted by the participating state agency for purposes of the program.\\n(f) (1) It is the intent of the Legislature that participation in the program by an attorney or other qualifying law school graduate, by a state agency, or by a public official within a state agency shall not constitute a gift of public money or thing of value for purposes of Section 6 of Article XVI of the California Constitution, a gift for purposes of the Political Reform Act of 1974 (Title 9 (commencing with Section 81000)), or a gift, bequest, or favor for purposes of the Code of Judicial Ethics adopted pursuant to subdivision (m) of Section 18 of Article VI of the California Constitution.\\n(2) To the extent feasible, the program shall be designed and administered to accomplish the Legislature’s intent as specified in this subdivision.\\n(g) State funds shall not be used to administer the program.\\n(h) For purposes of this section:\\n(1) “California Law Fellow” means a participant in the program.\\n(2) “Program” means the California Law Fellowship Program.\\n(3) “Qualifying law school graduate” means a recipient of a law degree from a law school accredited by the American Bar Association.\\n8924.7.\\n(a) The Legislature finds and declares that the California Law Fellowship Program, established pursuant to Chapter 1.5 (commencing with Section 8050) of Division 1, establishes a formal fellowship program that provides substantial public benefits to the Legislature as a participating state agency.\\n(b) The services of a participant in the California Law Fellowship Program California Law Fellow , whose placement with the Legislature is accepted duly authorized by the Senate Committee on Rules, the Assembly Committee on Rules, or the Joint Committee on Rules, as appropriate, are not compensation, a reward, or a gift to a Member of the Legislature for purposes of paragraph (4) of subdivision (b) of Section 8920.\\n(c) A participant in the California Law Fellowship Program California Law Fellow , whose placement with the Legislature is accepted duly authorized by the Senate Committee on Rules, the Assembly Committee on Rules, or the Joint Committee on Rules, as appropriate, is not an employee of either house of the Legislature for purposes of this article.\\n(d) For purposes of this section, a California Law Fellow is “duly authorized by the Senate Committee on Rules, the Assembly Committee on Rules, or the Joint Committee on Rules” only if both of the following requirements are satisfied:\\n(1) The California Law Fellow has been selected according to criteria, and pursuant to a process, approved by the Senate Committee on Rules, the Assembly Committee on Rules, or the Joint Committee on Rules.\\n(2) The program has executed an agreement with the Senate Committee on Rules, the Assembly Committee on Rules, or the Joint Committee on Rules whereby the California Law Fellow is bound to abide by standards of conduct, economic interest disclosure requisites, and other requirements specified by the Senate Committee on Rules, the Assembly Committee on Rules, or the Joint Committee on Rules.\\nSECTION 1.\\nSection 8169 of the\\nGovernment Code\\nis amended to read:\\n8169.\\n(a)The director may lease the real property owned by the state within the core area, and not under the jurisdiction of any other state agency, for purposes consistent with the Capitol Area Plan and the management thereof, for the term and upon terms and conditions that the director deems to be appropriate. A lease shall provide that any property subsequently leased by a joint powers authority for which a lease or rental for a period of five years or more is contemplated, shall be advertised and awarded utilizing for the purpose the same procedure followed by the director for other state properties. The director’s authority to lease real property under this section shall include, but not be limited to, the authority to lease portions of buildings and facilities occupied or to be occupied in part by state agencies, to private parties, and other public agencies for office, residential, parking, and commercial uses consistent with the Capitol Area Plan.\\n(b)(1)The director may sell real property that is owned by the state within the Capitol Area Plan area that is not under the jurisdiction of any other state agency and that is designated for residential and commercial purposes in the 1997 update of the plan. If the director sells property under this section, that property shall be sold at its fair market value to the joint powers authority created pursuant to Section 8169.4 for resale and use in the development of residential and commercial properties consistent with the Capitol Area Plan. In addition, any property sold under this section shall not diminish the number of existing dwelling units or subsequently developed units that are required to be made available to low-income households pursuant to Section 8193. For the purposes of Section 8193, an existing residential dwelling unit or a subsequently developed unit located on land sold pursuant to this section shall continue to be included in the determination of the total number of dwelling units located on property leased by the joint powers authority created pursuant to Section 8169.4.\\n(2)The director shall not sell any existing residential properties pursuant to this subdivision that are under the management of the joint powers authority created pursuant to Section 8169.4 unless that sale is part of an overall development plan that will lead to a net increase in residential units on the affected site or sites.\\n(3)In addition, the director shall not sell any existing residential properties pursuant to this subdivision that are under the management of the joint powers authority created pursuant to Section 8169.4 unless a deed restriction is recorded against the properties that contains an express condition and covenant that the real property conveyed shall be used only for residential purposes for a period of at least 45 years. “Residential purposes” means the same or substantially similar multifamily, single-family, or condominium use, or a mixed use, with the same or greater number of residential units on the affected site. The terms of the restriction are for the benefit of the public at large and for the benefit of all parcels of land located within the boundaries of the Capitol Area Plan. The residential use required by this subdivision shall bind all successive owners of the property for a period of 45 years from the date the property is conveyed by the joint powers authority.\\n(c)With respect to residential leases, the director’s authority included in this section shall not extend beyond the Capitol area. The director shall ensure that tenants residing within the Capitol area are not involuntarily displaced as a result of leases executed after January 1, 1978. The director’s authority shall also include the authority to enter into long-term leases not to exceed 60 years and to pledge, subordinate, hypothecate, or to permit the assignment of these leases in connection with financing to be obtained by any lessee or sublessee.\\n(d)The director shall not execute a sales agreement or lease agreement for a term lease of more than five years between the state and another entity, enter into a joint powers agreement, or issue revenue bonds or notes of evidences of indebtedness offered by the joint powers authority, if the agreement concerns state-owned property in the County of Sacramento or the County of Yolo, unless not less than 30 days prior to its execution he or she notifies and provides an economic analysis of the proposed sale to the Members of the Legislature who represent the Capitol area and the chairman of the committee in each house of the Legislature that considers appropriations, the chairman of the appropriate policy committee in each house, and the Chairman of the Joint Legislative Budget Committee, or his or her designee, in writing of his or her intention to execute such an agreement. The chairman of the committee or his or her designee may determine a lesser notification period prior to execution. The director shall provide a copy of the notice to any person who requests the director in writing for the notice.\\n(e)The Legislature hereby finds that it will be of broad public benefit to stimulate development of residential and commercial components of the Capitol Area Plan. Therefore, the director may sell property to the joint powers authority created pursuant to Section 8169.4 at a price that is determined to be its fair market value and terms that have been determined to be appropriate to stimulate timely development to meet the goals set forth by the Legislature in the 1997 update of the Capitol Area Plan. The Capitol Area Development Authority may request these sales after providing the director with appropriate economic analysis in support of the value at which property is to be conveyed. The director may approve the sale of the property if he or she concurs with the economic analysis.\\n(f)The Legislature hereby finds that it will be of broad public benefit to lease some residential units in the Capitol area to persons and families of low or moderate income, as defined by Section 50093 of the Health and Safety Code, for less than prevailing market rental rates. Therefore, the director may rent or provide for the rental of residential facilities to persons and families of low or moderate income for less than market rental rates and enter into long-term ground leases at nominal or below market rental rates when the director deems it will benefit these persons and families.\\n(g)All leases of state-owned property in the core area to any private person for other than parking shall be subject to possessory interest taxes in accordance with Chapter 1 (commencing with Section 101) of Part 1 of Division 1 of the Revenue and Taxation Code.\\n(h)The net proceeds of any moneys received from the disposition of any state parcels sold pursuant to subdivision (b) shall be deposited into the General Fund. The department shall be reimbursed for any cost or expense incurred in the disposition of any parcels.',\n",
       " 'summary': 'Existing law authorizes certain internship and fellowship programs in state government.\\nThis bill would establish the California Law Fellowship Program for the purpose of offering licensed attorneys and other qualifying law school graduates limited-term placements in public sector positions within state government as California Law Fellows, and encouraging each participant fellow to seek permanent public-sector employment at the conclusion of his or her fellowship, as specified.\\nExisting law, commonly known as the Code of Ethics, prohibits a Member of the Legislature or an employee of either house of the Legislature from receiving or agreeing to receive, directly or indirectly, any compensation, reward, or gift from any source except the State of California for any service, advice, assistance, or other matter related to the legislative process, except for specified circumstances.\\nThis bill would provide that the services of a participant in the California Law Fellowship Program Fellow are not compensation, a reward, or a gift to a Member of the Legislature for purposes of the so-called Code of Ethics. The bill would also provide that a participant in the program is not an employee of either house of the Legislature for purposes of the Code of Ethics.\\nExisting law designates the Capitol Area Plan approved by the Director of General Services as the official state master plan for development in the City of Sacramento’s central city area. Existing law requires the plan to be used as a guide for the location of state buildings and other facilities in the metropolitan area. Existing law governs the lease or sale of real property covered by the plan that is owned by the state and not under the jurisdiction of any other state agency.\\nThis bill would make nonsubstantive changes to those lease and sale provisions.',\n",
       " 'title': 'An act to\\namend Section 8169 of\\nadd Section 8924.7 to, and to add Chapter 1.5 (commencing with Section 8050) to Division 1 of Title 2 of,\\nthe Government Code, relating to state\\nproperty.\\ngovernment.'}"
      ]
     },
     "execution_count": 3,
     "metadata": {},
     "output_type": "execute_result"
    }
   ],
   "source": [
    "billsum[\"train\"][0]"
   ]
  },
  {
   "cell_type": "code",
   "execution_count": 4,
   "id": "384428aa",
   "metadata": {},
   "outputs": [],
   "source": [
    "from transformers import AutoTokenizer\n",
    "checkpoint = \"google-t5/t5-small\"\n",
    "tokenizer = AutoTokenizer.from_pretrained(checkpoint)"
   ]
  },
  {
   "cell_type": "code",
   "execution_count": 5,
   "id": "d5a2cc96",
   "metadata": {},
   "outputs": [],
   "source": [
    "prefix = \"summarize: \"\n",
    "def preprocess_function(examples):\n",
    "    inputs = [prefix + doc for doc in examples[\"text\"]]\n",
    "    model_inputs = tokenizer(inputs, max_length = 1024, truncation = True)\n",
    "    labels = tokenizer(text_target = examples[\"summary\"], max_length = 128, truncation = True)\n",
    "    model_inputs[\"labels\"] = labels[\"input_ids\"]\n",
    "    return model_inputs\n",
    "    "
   ]
  },
  {
   "cell_type": "code",
   "execution_count": 6,
   "id": "36d29857",
   "metadata": {},
   "outputs": [
    {
     "data": {
      "application/vnd.jupyter.widget-view+json": {
       "model_id": "274bd0d5348a40f5b78ec1071d6e9b76",
       "version_major": 2,
       "version_minor": 0
      },
      "text/plain": [
       "Map:   0%|          | 0/989 [00:00<?, ? examples/s]"
      ]
     },
     "metadata": {},
     "output_type": "display_data"
    },
    {
     "data": {
      "application/vnd.jupyter.widget-view+json": {
       "model_id": "092a1d96740243f7ae9bffedaebec54c",
       "version_major": 2,
       "version_minor": 0
      },
      "text/plain": [
       "Map:   0%|          | 0/248 [00:00<?, ? examples/s]"
      ]
     },
     "metadata": {},
     "output_type": "display_data"
    }
   ],
   "source": [
    "tokenized_billsum = billsum.map(preprocess_function, batched = True)"
   ]
  },
  {
   "cell_type": "code",
   "execution_count": 7,
   "id": "52b796bd",
   "metadata": {},
   "outputs": [],
   "source": [
    "from transformers import DataCollatorForSeq2Seq\n",
    "data_collator = DataCollatorForSeq2Seq(tokenizer = tokenizer, model=checkpoint)\n"
   ]
  },
  {
   "cell_type": "code",
   "execution_count": 11,
   "id": "6821370b",
   "metadata": {},
   "outputs": [],
   "source": [
    "import evaluate\n",
    "import numpy as np\n",
    "rouge = evaluate.load(\"rouge\")\n",
    "\n",
    "def compute_metrics(eval_pred):\n",
    "    predictions, labels = eval_pred\n",
    "    decoded_preds = tokenizer.batch_decode(predictions, skip_special_tokens = True)\n",
    "    labels = np.where(labels != -100, labels, tokenizer.pad_token_id)\n",
    "    decoded_labels = tokenizer.batch_decode(labels, skip_special_tokens = True)\n",
    "\n",
    "    result = rouge.compute(predictions = decoded_preds, references = decoded_labels, use_stemmer=True)\n",
    "    prediction_lens = [np.count_nonzero(pred != tokenizer.pad_token_id) for pred in predictions]\n",
    "    result[\"gen_len\"] = np.mean(prediction_lens)\n",
    "\n",
    "    return {k: round(v, 4) for k, v in result.items()}\n",
    "\n",
    "\n"
   ]
  },
  {
   "cell_type": "code",
   "execution_count": 12,
   "id": "984b5cfc",
   "metadata": {},
   "outputs": [],
   "source": [
    "from transformers import AutoModelForSeq2SeqLM, Seq2SeqTrainingArguments, Seq2SeqTrainer\n",
    "model = AutoModelForSeq2SeqLM.from_pretrained(checkpoint)\n",
    "\n",
    "training_args = Seq2SeqTrainingArguments(\n",
    "    output_dir = \"f1_t5_billsum_model\",\n",
    "    eval_strategy = \"epoch\",\n",
    "    learning_rate = 2e-5,\n",
    "    per_device_train_batch_size = 1,\n",
    "    per_device_eval_batch_size = 1,\n",
    "    weight_decay = 0.01,\n",
    "    save_total_limit = 3,\n",
    "    num_train_epochs = 4,\n",
    "    predict_with_generate = True, \n",
    "    fp16 = False, \n",
    "    push_to_hub = True,\n",
    "    bf16= False,\n",
    ")\n"
   ]
  },
  {
   "cell_type": "code",
   "execution_count": 13,
   "id": "79a34144",
   "metadata": {},
   "outputs": [
    {
     "data": {
      "text/html": [
       "\n",
       "    <div>\n",
       "      \n",
       "      <progress value='3956' max='3956' style='width:300px; height:20px; vertical-align: middle;'></progress>\n",
       "      [3956/3956 19:25, Epoch 4/4]\n",
       "    </div>\n",
       "    <table border=\"1\" class=\"dataframe\">\n",
       "  <thead>\n",
       " <tr style=\"text-align: left;\">\n",
       "      <th>Epoch</th>\n",
       "      <th>Training Loss</th>\n",
       "      <th>Validation Loss</th>\n",
       "      <th>Rouge1</th>\n",
       "      <th>Rouge2</th>\n",
       "      <th>Rougel</th>\n",
       "      <th>Rougelsum</th>\n",
       "      <th>Gen Len</th>\n",
       "    </tr>\n",
       "  </thead>\n",
       "  <tbody>\n",
       "    <tr>\n",
       "      <td>1</td>\n",
       "      <td>3.021200</td>\n",
       "      <td>2.336903</td>\n",
       "      <td>0.210100</td>\n",
       "      <td>0.104000</td>\n",
       "      <td>0.177000</td>\n",
       "      <td>0.176900</td>\n",
       "      <td>20.000000</td>\n",
       "    </tr>\n",
       "    <tr>\n",
       "      <td>2</td>\n",
       "      <td>2.489600</td>\n",
       "      <td>2.253265</td>\n",
       "      <td>0.210700</td>\n",
       "      <td>0.106600</td>\n",
       "      <td>0.178400</td>\n",
       "      <td>0.178700</td>\n",
       "      <td>20.000000</td>\n",
       "    </tr>\n",
       "    <tr>\n",
       "      <td>3</td>\n",
       "      <td>2.462800</td>\n",
       "      <td>2.217875</td>\n",
       "      <td>0.212600</td>\n",
       "      <td>0.110100</td>\n",
       "      <td>0.180500</td>\n",
       "      <td>0.180600</td>\n",
       "      <td>20.000000</td>\n",
       "    </tr>\n",
       "    <tr>\n",
       "      <td>4</td>\n",
       "      <td>2.409000</td>\n",
       "      <td>2.208604</td>\n",
       "      <td>0.210900</td>\n",
       "      <td>0.106800</td>\n",
       "      <td>0.177900</td>\n",
       "      <td>0.177900</td>\n",
       "      <td>20.000000</td>\n",
       "    </tr>\n",
       "  </tbody>\n",
       "</table><p>"
      ],
      "text/plain": [
       "<IPython.core.display.HTML object>"
      ]
     },
     "metadata": {},
     "output_type": "display_data"
    },
    {
     "name": "stdout",
     "output_type": "stream",
     "text": [
      "  \u001b[2m2025-08-23T13:23:30.422788Z\u001b[0m \u001b[33m WARN\u001b[0m  \u001b[33mStatus Code: 502. Retrying..., \u001b[1;33mrequest_id\u001b[0m\u001b[33m: \"\"\u001b[0m\n",
      "    \u001b[2;3mat\u001b[0m /Users/runner/work/xet-core/xet-core/cas_client/src/http_client.rs:220\n",
      "\n"
     ]
    },
    {
     "name": "stderr",
     "output_type": "stream",
     "text": [
      "/Users/pranamshetty/Developer/workshop/transformers-from-scratch/venv/lib/python3.12/site-packages/torch/utils/data/dataloader.py:684: UserWarning: 'pin_memory' argument is set as true but not supported on MPS now, then device pinned memory won't be used.\n",
      "  warnings.warn(warn_msg)\n",
      "/Users/pranamshetty/Developer/workshop/transformers-from-scratch/venv/lib/python3.12/site-packages/torch/utils/data/dataloader.py:684: UserWarning: 'pin_memory' argument is set as true but not supported on MPS now, then device pinned memory won't be used.\n",
      "  warnings.warn(warn_msg)\n",
      "/Users/pranamshetty/Developer/workshop/transformers-from-scratch/venv/lib/python3.12/site-packages/torch/utils/data/dataloader.py:684: UserWarning: 'pin_memory' argument is set as true but not supported on MPS now, then device pinned memory won't be used.\n",
      "  warnings.warn(warn_msg)\n",
      "/Users/pranamshetty/Developer/workshop/transformers-from-scratch/venv/lib/python3.12/site-packages/torch/utils/data/dataloader.py:684: UserWarning: 'pin_memory' argument is set as true but not supported on MPS now, then device pinned memory won't be used.\n",
      "  warnings.warn(warn_msg)\n"
     ]
    },
    {
     "data": {
      "text/plain": [
       "TrainOutput(global_step=3956, training_loss=2.5421505765075993, metrics={'train_runtime': 1166.2271, 'train_samples_per_second': 3.392, 'train_steps_per_second': 3.392, 'total_flos': 1070364382593024.0, 'train_loss': 2.5421505765075993, 'epoch': 4.0})"
      ]
     },
     "execution_count": 13,
     "metadata": {},
     "output_type": "execute_result"
    }
   ],
   "source": [
    "trainer = Seq2SeqTrainer(\n",
    "    model = model,\n",
    "    args = training_args, \n",
    "    train_dataset = tokenized_billsum[\"train\"],\n",
    "    eval_dataset = tokenized_billsum[\"test\"],\n",
    "    processing_class = tokenizer, \n",
    "    data_collator = data_collator, \n",
    "    compute_metrics = compute_metrics,\n",
    "    \n",
    ")\n",
    "\n",
    "trainer.train()"
   ]
  },
  {
   "cell_type": "code",
   "execution_count": 14,
   "id": "85115155",
   "metadata": {},
   "outputs": [
    {
     "data": {
      "application/vnd.jupyter.widget-view+json": {
       "model_id": "f784256c6022434a8189c5b9d79c36ca",
       "version_major": 2,
       "version_minor": 0
      },
      "text/plain": [
       "Processing Files (0 / 0)                : |          |  0.00B /  0.00B            "
      ]
     },
     "metadata": {},
     "output_type": "display_data"
    },
    {
     "data": {
      "application/vnd.jupyter.widget-view+json": {
       "model_id": "e26de27a052d4ccf9cd772bb9a108a06",
       "version_major": 2,
       "version_minor": 0
      },
      "text/plain": [
       "New Data Upload                         : |          |  0.00B /  0.00B            "
      ]
     },
     "metadata": {},
     "output_type": "display_data"
    },
    {
     "data": {
      "application/vnd.jupyter.widget-view+json": {
       "model_id": "953816e965fc4d3ea08b9d4c3ecb2d58",
       "version_major": 2,
       "version_minor": 0
      },
      "text/plain": [
       "  ..._t5_billsum_model/training_args.bin: 100%|##########| 5.91kB / 5.91kB            "
      ]
     },
     "metadata": {},
     "output_type": "display_data"
    },
    {
     "data": {
      "application/vnd.jupyter.widget-view+json": {
       "model_id": "3a87cf54fef346a9b16dbb14d7974ed9",
       "version_major": 2,
       "version_minor": 0
      },
      "text/plain": [
       "  ..._t5_billsum_model/model.safetensors:   0%|          |  552kB /  242MB            "
      ]
     },
     "metadata": {},
     "output_type": "display_data"
    },
    {
     "data": {
      "text/plain": [
       "CommitInfo(commit_url='https://huggingface.co/prxshetty/f1_t5_billsum_model/commit/1f4e35c6ba89bc4c452147e1386732c2031030ff', commit_message='End of training', commit_description='', oid='1f4e35c6ba89bc4c452147e1386732c2031030ff', pr_url=None, repo_url=RepoUrl('https://huggingface.co/prxshetty/f1_t5_billsum_model', endpoint='https://huggingface.co', repo_type='model', repo_id='prxshetty/f1_t5_billsum_model'), pr_revision=None, pr_num=None)"
      ]
     },
     "execution_count": 14,
     "metadata": {},
     "output_type": "execute_result"
    }
   ],
   "source": [
    "trainer.push_to_hub()\n"
   ]
  },
  {
   "cell_type": "code",
   "execution_count": 18,
   "id": "58c4ff77",
   "metadata": {},
   "outputs": [
    {
     "name": "stderr",
     "output_type": "stream",
     "text": [
      "Device set to use mps:0\n",
      "Your max_length is set to 200, but your input_length is only 103. Since this is a summarization task, where outputs shorter than the input are typically wanted, you might consider decreasing max_length manually, e.g. summarizer('...', max_length=51)\n"
     ]
    },
    {
     "data": {
      "text/plain": [
       "[{'summary_text': \"The Inflation Reduction Act lowers prescription drug costs, health care costs, and energy costs. It's the most aggressive action on tackling the climate crisis in American history, which will lift up American workers and create good-paying, union jobs across the country.\"}]"
      ]
     },
     "execution_count": 18,
     "metadata": {},
     "output_type": "execute_result"
    }
   ],
   "source": [
    "text = \"summarize: The Inflation Reduction Act lowers prescription drug costs, health care costs, and energy costs. It's the most aggressive action on tackling the climate crisis in American history, which will lift up American workers and create good-paying, union jobs across the country. It'll lower the deficit and ask the ultra-wealthy and corporations to pay their fair share. And no one making under $400,000 per year will pay a penny more in taxes.\"\n",
    "from transformers import pipeline\n",
    "summarizer = pipeline(\"summarization\", model = \"prxshetty/f1_t5_billsum_model\")\n",
    "summarizer(text)"
   ]
  },
  {
   "cell_type": "code",
   "execution_count": 20,
   "id": "dd90d9f0",
   "metadata": {},
   "outputs": [],
   "source": [
    "from transformers import AutoTokenizer\n",
    "tokenizer = AutoTokenizer.from_pretrained(\"prxshetty/f1_t5_billsum_model\")\n",
    "inputs = tokenizer(text, return_tensors=\"pt\").input_ids"
   ]
  },
  {
   "cell_type": "code",
   "execution_count": null,
   "id": "8f38e27c",
   "metadata": {},
   "outputs": [],
   "source": [
    "from transformers import AutoModelForSeq2SeqLM\n",
    "model = AutoModelForSeq2SeqLM.from_pretrained(\"prxshetty/f1_t5_billsum_model\")\n",
    "outputs = model.generate(inputs, max_new_tokens = 200, do_sample = False)\n",
    "tokenizer.decode(outputs[0], skip_special_tokens = True)\n"
   ]
  }
 ],
 "metadata": {
  "kernelspec": {
   "display_name": "venv (3.12.2)",
   "language": "python",
   "name": "python3"
  },
  "language_info": {
   "codemirror_mode": {
    "name": "ipython",
    "version": 3
   },
   "file_extension": ".py",
   "mimetype": "text/x-python",
   "name": "python",
   "nbconvert_exporter": "python",
   "pygments_lexer": "ipython3",
   "version": "3.12.2"
  }
 },
 "nbformat": 4,
 "nbformat_minor": 5
}
